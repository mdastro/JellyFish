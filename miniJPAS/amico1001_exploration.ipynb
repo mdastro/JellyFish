{
 "cells": [
  {
   "cell_type": "code",
   "execution_count": 8,
   "metadata": {},
   "outputs": [],
   "source": [
    "import numpy             as np\n",
    "import pandas            as pd\n",
    "import matplotlib.pyplot as plt\n",
    "import seaborn           as sns\n",
    "import os"
   ]
  },
  {
   "cell_type": "code",
   "execution_count": 9,
   "metadata": {},
   "outputs": [],
   "source": [
    "amico_path = '../../Dados/AMICO1001/'"
   ]
  },
  {
   "cell_type": "code",
   "execution_count": 10,
   "metadata": {},
   "outputs": [],
   "source": [
    "amico_cat = pd.read_csv(os.path.join(amico_path, 'Cl1001_spec_cat.txt'), skiprows=16, delim_whitespace=True, \n",
    "                        usecols=[0, 1, 2, 3, 4, 5, 6, 7, 8, 9, 10, 11, 12, 13, 14, 15, 16, 17, 18, 19], \n",
    "                        index_col=False)"
   ]
  },
  {
   "cell_type": "code",
   "execution_count": 11,
   "metadata": {},
   "outputs": [],
   "source": [
    "header = ['Galaxy', 'id', 'mask_slit', 'ra', 'dec', 'gsdss', 'gerr', 'rsdss', 'rerr', 'g-r', 'grerr', 'template', \n",
    "          'R', 'vobs', 'vhel', 'verr', 'zobs', 'zhel', 'zerr', 'Member', 'Comments']"
   ]
  },
  {
   "cell_type": "code",
   "execution_count": 12,
   "metadata": {},
   "outputs": [
    {
     "name": "stdout",
     "output_type": "stream",
     "text": [
      "['Galaxy', 'id', 'mask_slit', 'ra', 'dec', 'gsdss', 'gerr', 'rsdss', 'rerr', 'g-r', 'grerr', 'template', 'R', 'vobs', 'vhel', 'verr', 'zobs', 'zhel', 'zerr', 'Member']\n"
     ]
    }
   ],
   "source": [
    "print(header[:-1])"
   ]
  },
  {
   "cell_type": "code",
   "execution_count": 13,
   "metadata": {},
   "outputs": [],
   "source": [
    "amico_cat.columns = header[:-1]"
   ]
  },
  {
   "cell_type": "code",
   "execution_count": 25,
   "metadata": {},
   "outputs": [],
   "source": [
    "amico_cat.to_csv('../../Dados/AMICO1001/Cl1001_spec_cat.csv', index=False)"
   ]
  },
  {
   "cell_type": "code",
   "execution_count": 15,
   "metadata": {},
   "outputs": [],
   "source": [
    "amico_minij_cat = pd.read_csv(os.path.join(amico_path, 'mini-JPAS_1001_members.cat'), delim_whitespace=True, \n",
    "                              index_col=False)"
   ]
  },
  {
   "cell_type": "code",
   "execution_count": 17,
   "metadata": {},
   "outputs": [],
   "source": [
    "header_minij = ['gal_id', 'ra', 'dec', 'x', 'y', 'r_band', 'field_probability', 'number_of_associated_clusters', \n",
    "                'id_clusgter', 'probabilistic_association_cluster']"
   ]
  },
  {
   "cell_type": "code",
   "execution_count": 19,
   "metadata": {},
   "outputs": [],
   "source": [
    "amico_minij_cat.columns = header_minij"
   ]
  },
  {
   "cell_type": "code",
   "execution_count": 23,
   "metadata": {},
   "outputs": [],
   "source": [
    "amico_minij_cat.to_csv('../../Dados/AMICO1001/mini-JPAS_1001_members.csv', index=False)"
   ]
  },
  {
   "cell_type": "code",
   "execution_count": 24,
   "metadata": {},
   "outputs": [
    {
     "data": {
      "text/html": [
       "<div>\n",
       "<style scoped>\n",
       "    .dataframe tbody tr th:only-of-type {\n",
       "        vertical-align: middle;\n",
       "    }\n",
       "\n",
       "    .dataframe tbody tr th {\n",
       "        vertical-align: top;\n",
       "    }\n",
       "\n",
       "    .dataframe thead th {\n",
       "        text-align: right;\n",
       "    }\n",
       "</style>\n",
       "<table border=\"1\" class=\"dataframe\">\n",
       "  <thead>\n",
       "    <tr style=\"text-align: right;\">\n",
       "      <th></th>\n",
       "      <th>gal_id</th>\n",
       "      <th>ra</th>\n",
       "      <th>dec</th>\n",
       "      <th>x</th>\n",
       "      <th>y</th>\n",
       "      <th>r_band</th>\n",
       "      <th>field_probability</th>\n",
       "      <th>number_of_associated_clusters</th>\n",
       "      <th>id_clusgter</th>\n",
       "      <th>probabilistic_association_cluster</th>\n",
       "    </tr>\n",
       "  </thead>\n",
       "  <tbody>\n",
       "    <tr>\n",
       "      <th>0</th>\n",
       "      <td>492</td>\n",
       "      <td>213.67861</td>\n",
       "      <td>51.860853</td>\n",
       "      <td>186.18574</td>\n",
       "      <td>32.898574</td>\n",
       "      <td>21.837</td>\n",
       "      <td>0.375716</td>\n",
       "      <td>1</td>\n",
       "      <td>1</td>\n",
       "      <td>0.624284</td>\n",
       "    </tr>\n",
       "    <tr>\n",
       "      <th>1</th>\n",
       "      <td>494</td>\n",
       "      <td>213.52359</td>\n",
       "      <td>51.954521</td>\n",
       "      <td>167.31831</td>\n",
       "      <td>51.895637</td>\n",
       "      <td>20.337</td>\n",
       "      <td>0.414384</td>\n",
       "      <td>1</td>\n",
       "      <td>1</td>\n",
       "      <td>0.585616</td>\n",
       "    </tr>\n",
       "    <tr>\n",
       "      <th>2</th>\n",
       "      <td>549</td>\n",
       "      <td>213.52623</td>\n",
       "      <td>51.951107</td>\n",
       "      <td>167.63352</td>\n",
       "      <td>51.208056</td>\n",
       "      <td>19.215</td>\n",
       "      <td>0.157302</td>\n",
       "      <td>1</td>\n",
       "      <td>1</td>\n",
       "      <td>0.842698</td>\n",
       "    </tr>\n",
       "    <tr>\n",
       "      <th>3</th>\n",
       "      <td>587</td>\n",
       "      <td>213.54411</td>\n",
       "      <td>51.944027</td>\n",
       "      <td>169.81671</td>\n",
       "      <td>49.759624</td>\n",
       "      <td>19.184</td>\n",
       "      <td>0.120789</td>\n",
       "      <td>1</td>\n",
       "      <td>1</td>\n",
       "      <td>0.879211</td>\n",
       "    </tr>\n",
       "    <tr>\n",
       "      <th>4</th>\n",
       "      <td>595</td>\n",
       "      <td>213.49638</td>\n",
       "      <td>51.977356</td>\n",
       "      <td>164.03456</td>\n",
       "      <td>56.512857</td>\n",
       "      <td>21.560</td>\n",
       "      <td>0.405320</td>\n",
       "      <td>1</td>\n",
       "      <td>1</td>\n",
       "      <td>0.594680</td>\n",
       "    </tr>\n",
       "    <tr>\n",
       "      <th>...</th>\n",
       "      <td>...</td>\n",
       "      <td>...</td>\n",
       "      <td>...</td>\n",
       "      <td>...</td>\n",
       "      <td>...</td>\n",
       "      <td>...</td>\n",
       "      <td>...</td>\n",
       "      <td>...</td>\n",
       "      <td>...</td>\n",
       "      <td>...</td>\n",
       "    </tr>\n",
       "    <tr>\n",
       "      <th>93</th>\n",
       "      <td>3848</td>\n",
       "      <td>213.73323</td>\n",
       "      <td>51.988299</td>\n",
       "      <td>193.23909</td>\n",
       "      <td>58.302179</td>\n",
       "      <td>19.639</td>\n",
       "      <td>0.271200</td>\n",
       "      <td>1</td>\n",
       "      <td>1</td>\n",
       "      <td>0.728800</td>\n",
       "    </tr>\n",
       "    <tr>\n",
       "      <th>94</th>\n",
       "      <td>4414</td>\n",
       "      <td>213.82439</td>\n",
       "      <td>51.971177</td>\n",
       "      <td>204.43001</td>\n",
       "      <td>54.749964</td>\n",
       "      <td>22.194</td>\n",
       "      <td>0.455712</td>\n",
       "      <td>1</td>\n",
       "      <td>1</td>\n",
       "      <td>0.544288</td>\n",
       "    </tr>\n",
       "    <tr>\n",
       "      <th>95</th>\n",
       "      <td>4691</td>\n",
       "      <td>213.79628</td>\n",
       "      <td>51.994708</td>\n",
       "      <td>201.01899</td>\n",
       "      <td>59.493845</td>\n",
       "      <td>18.829</td>\n",
       "      <td>0.469941</td>\n",
       "      <td>1</td>\n",
       "      <td>1</td>\n",
       "      <td>0.530059</td>\n",
       "    </tr>\n",
       "    <tr>\n",
       "      <th>96</th>\n",
       "      <td>5010</td>\n",
       "      <td>213.74391</td>\n",
       "      <td>52.047696</td>\n",
       "      <td>194.69570</td>\n",
       "      <td>70.165007</td>\n",
       "      <td>20.302</td>\n",
       "      <td>0.472189</td>\n",
       "      <td>1</td>\n",
       "      <td>1</td>\n",
       "      <td>0.527811</td>\n",
       "    </tr>\n",
       "    <tr>\n",
       "      <th>97</th>\n",
       "      <td>5523</td>\n",
       "      <td>213.72606</td>\n",
       "      <td>52.074069</td>\n",
       "      <td>192.56416</td>\n",
       "      <td>75.465588</td>\n",
       "      <td>20.583</td>\n",
       "      <td>0.432128</td>\n",
       "      <td>1</td>\n",
       "      <td>1</td>\n",
       "      <td>0.567872</td>\n",
       "    </tr>\n",
       "  </tbody>\n",
       "</table>\n",
       "<p>98 rows × 10 columns</p>\n",
       "</div>"
      ],
      "text/plain": [
       "    gal_id         ra        dec          x          y  r_band  \\\n",
       "0      492  213.67861  51.860853  186.18574  32.898574  21.837   \n",
       "1      494  213.52359  51.954521  167.31831  51.895637  20.337   \n",
       "2      549  213.52623  51.951107  167.63352  51.208056  19.215   \n",
       "3      587  213.54411  51.944027  169.81671  49.759624  19.184   \n",
       "4      595  213.49638  51.977356  164.03456  56.512857  21.560   \n",
       "..     ...        ...        ...        ...        ...     ...   \n",
       "93    3848  213.73323  51.988299  193.23909  58.302179  19.639   \n",
       "94    4414  213.82439  51.971177  204.43001  54.749964  22.194   \n",
       "95    4691  213.79628  51.994708  201.01899  59.493845  18.829   \n",
       "96    5010  213.74391  52.047696  194.69570  70.165007  20.302   \n",
       "97    5523  213.72606  52.074069  192.56416  75.465588  20.583   \n",
       "\n",
       "    field_probability  number_of_associated_clusters  id_clusgter  \\\n",
       "0            0.375716                              1            1   \n",
       "1            0.414384                              1            1   \n",
       "2            0.157302                              1            1   \n",
       "3            0.120789                              1            1   \n",
       "4            0.405320                              1            1   \n",
       "..                ...                            ...          ...   \n",
       "93           0.271200                              1            1   \n",
       "94           0.455712                              1            1   \n",
       "95           0.469941                              1            1   \n",
       "96           0.472189                              1            1   \n",
       "97           0.432128                              1            1   \n",
       "\n",
       "    probabilistic_association_cluster  \n",
       "0                            0.624284  \n",
       "1                            0.585616  \n",
       "2                            0.842698  \n",
       "3                            0.879211  \n",
       "4                            0.594680  \n",
       "..                                ...  \n",
       "93                           0.728800  \n",
       "94                           0.544288  \n",
       "95                           0.530059  \n",
       "96                           0.527811  \n",
       "97                           0.567872  \n",
       "\n",
       "[98 rows x 10 columns]"
      ]
     },
     "execution_count": 24,
     "metadata": {},
     "output_type": "execute_result"
    }
   ],
   "source": [
    "amico_minij_cat"
   ]
  },
  {
   "cell_type": "code",
   "execution_count": null,
   "metadata": {},
   "outputs": [],
   "source": []
  }
 ],
 "metadata": {
  "kernelspec": {
   "display_name": "Python 3",
   "language": "python",
   "name": "python3"
  },
  "language_info": {
   "codemirror_mode": {
    "name": "ipython",
    "version": 3
   },
   "file_extension": ".py",
   "mimetype": "text/x-python",
   "name": "python",
   "nbconvert_exporter": "python",
   "pygments_lexer": "ipython3",
   "version": "3.7.9"
  }
 },
 "nbformat": 4,
 "nbformat_minor": 4
}
